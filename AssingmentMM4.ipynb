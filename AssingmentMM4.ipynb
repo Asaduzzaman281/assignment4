{
 "cells": [
  {
   "cell_type": "code",
   "execution_count": 3,
   "metadata": {},
   "outputs": [
    {
     "name": "stdout",
     "output_type": "stream",
     "text": [
      "Notes of krackhardt_kite_graph:  \n",
      " [0, 1, 2, 3, 4, 5, 6, 7, 8, 9]\n",
      "Notes of krackhardt_kite_graph \n",
      " [(0, 1), (0, 2), (0, 3), (0, 5), (1, 3), (1, 4), (1, 6), (2, 3), (2, 5), (3, 4), (3, 5), (3, 6), (4, 6), (5, 6), (5, 7), (6, 7), (7, 8), (8, 9)]\n",
      "edge of networl \n",
      " [(0, 1), (0, 2), (0, 3), (0, 5), (1, 3), (1, 4), (1, 6), (2, 3), (2, 5), (3, 4), (3, 5), (3, 6), (5, 6), (5, 7), (4, 6), (6, 7), (7, 8), (8, 9)]\n",
      "print the name in the networks\n",
      "\n",
      " named network as note:  \n",
      " ['Garth', 'Billal', 'Carlos', 'Diane', 'Asad', 'Ed', 'Jane', 'Fernando', 'Kazi']\n",
      "----------------------\n",
      "\n",
      " Edges of the  network:  \n",
      " [('Garth', 'Billal'), ('Garth', 'Carlos'), ('Garth', 'Diane'), ('Garth', 'Asad'), ('Garth', 'Ed'), ('Garth', 'Jane'), ('Billal', 'Diane'), ('Billal', 'Ed'), ('Carlos', 'Diane'), ('Carlos', 'Asad'), ('Diane', 'Ed'), ('Diane', 'Asad'), ('Asad', 'Jane'), ('Jane', 'Fernando'), ('Fernando', 'Kazi')]\n"
     ]
    },
    {
     "name": "stderr",
     "output_type": "stream",
     "text": [
      "C:\\Users\\asadn\\Anaconda3\\lib\\site-packages\\networkx\\drawing\\nx_pylab.py:611: MatplotlibDeprecationWarning: isinstance(..., numbers.Number)\n",
      "  if cb.is_numlike(alpha):\n"
     ]
    },
    {
     "data": {
      "image/png": "[encoded data removed]",
      "text/plain": [
       "<Figure size 432x288 with 1 Axes>"
      ]
     },
     "metadata": {},
     "output_type": "display_data"
    }
   ],
   "source": [
    "import networkx as nx \n",
    "import matplotlib.pyplot as plt \n",
    "import seaborn as sns\n",
    "%matplotlib inline\n",
    "sns.set()\n",
    "#--- put the values\n",
    "G = nx.Graph()\n",
    "g = nx.generators.krackhardt_kite_graph()\n",
    "\n",
    "print(\"Notes of krackhardt_kite_graph: \",\"\\n\",g.nodes())\n",
    "\n",
    "print(\"Notes of krackhardt_kite_graph\",\"\\n\",g.edges())\n",
    "\n",
    "plt.figure()\n",
    "\n",
    "nx.draw_networkx(G)\n",
    "people = {2:\"Carlos\" , 5:\"Asad\", 7:\"Jane\", 8:\"Fernando\", 9:\"Kazi\", 6:\"Garth\", 4:\"Ed\", 1:\"Billal\", 3:\"Diane\", 0:\"Garth\"}\n",
    "people\n",
    "GH=nx.Graph()\n",
    "edg=([(0,1),(1,2),(2,3),(3,0),(0,4),(4,1),(4,5),(3,6),(0,6),(2,7),(1,7),(0,8),(1,8),(3,8),(2,8),(7,6),(5,9)])\n",
    "edg=g.edges()\n",
    "# ---print edges\n",
    "GH.add_edges_from(edg)\n",
    " \n",
    "print (\"edge of networl\",\"\\n\",GH.edges())\n",
    "GL= nx.relabel_nodes(GH, people)\n",
    "print(\"print the name in the networks\\n\")\n",
    "print(\" named network as note: \", \"\\n\", GL.nodes())\n",
    "print(\"----------------------\\n\")\n",
    "print(\" Edges of the  network: \", \"\\n\", GL.edges())\n",
    "nx.draw(GL,with_labels=1)\n",
    "plt.show()\n",
    " \n",
    " "
   ]
  },
  {
   "cell_type": "code",
   "execution_count": null,
   "metadata": {},
   "outputs": [],
   "source": [
    " "
   ]
  },
  {
   "cell_type": "code",
   "execution_count": null,
   "metadata": {},
   "outputs": [],
   "source": [
    " "
   ]
  },
  {
   "cell_type": "code",
   "execution_count": null,
   "metadata": {},
   "outputs": [],
   "source": []
  },
  {
   "cell_type": "code",
   "execution_count": null,
   "metadata": {},
   "outputs": [],
   "source": []
  },
  {
   "cell_type": "code",
   "execution_count": null,
   "metadata": {},
   "outputs": [],
   "source": []
  },
  {
   "cell_type": "code",
   "execution_count": null,
   "metadata": {},
   "outputs": [],
   "source": []
  }
 ],
 "metadata": {
  "kernelspec": {
   "display_name": "Python 3",
   "language": "python",
   "name": "python3"
  },
  "language_info": {
   "codemirror_mode": {
    "name": "ipython",
    "version": 3
   },
   "file_extension": ".py",
   "mimetype": "text/x-python",
   "name": "python",
   "nbconvert_exporter": "python",
   "pygments_lexer": "ipython3",
   "version": "3.7.3"
  }
 },
 "nbformat": 4,
 "nbformat_minor": 2
}
